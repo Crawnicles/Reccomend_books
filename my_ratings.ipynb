{
 "cells": [
  {
   "cell_type": "code",
   "execution_count": 13,
   "id": "93f43f3e-facc-4bbf-bf26-1f2edae405e7",
   "metadata": {},
   "outputs": [],
   "source": [
    "import pandas as pd\n",
    "\n",
    "# to generate this, click on goodreads \"my books\".  Then click \"export\"\n",
    "books = pd.read_csv(\"my_liked_books.csv\", index_col=0)"
   ]
  },
  {
   "cell_type": "code",
   "execution_count": 14,
   "id": "41853613-4c04-48c9-b8f9-0606362bcb51",
   "metadata": {},
   "outputs": [
    {
     "data": {
      "text/html": [
       "<div>\n",
       "<style scoped>\n",
       "    .dataframe tbody tr th:only-of-type {\n",
       "        vertical-align: middle;\n",
       "    }\n",
       "\n",
       "    .dataframe tbody tr th {\n",
       "        vertical-align: top;\n",
       "    }\n",
       "\n",
       "    .dataframe thead th {\n",
       "        text-align: right;\n",
       "    }\n",
       "</style>\n",
       "<table border=\"1\" class=\"dataframe\">\n",
       "  <thead>\n",
       "    <tr style=\"text-align: right;\">\n",
       "      <th></th>\n",
       "      <th>user_id</th>\n",
       "      <th>book_id</th>\n",
       "      <th>rating</th>\n",
       "      <th>title</th>\n",
       "    </tr>\n",
       "  </thead>\n",
       "  <tbody>\n",
       "    <tr>\n",
       "      <th>0</th>\n",
       "      <td>-1</td>\n",
       "      <td>127455</td>\n",
       "      <td>0</td>\n",
       "      <td>The Lies of Locke Lamora (Gentleman Bastard, #1)</td>\n",
       "    </tr>\n",
       "    <tr>\n",
       "      <th>1</th>\n",
       "      <td>-1</td>\n",
       "      <td>17800</td>\n",
       "      <td>0</td>\n",
       "      <td>Dance Dance Dance (The Rat #4)</td>\n",
       "    </tr>\n",
       "    <tr>\n",
       "      <th>2</th>\n",
       "      <td>-1</td>\n",
       "      <td>13538873</td>\n",
       "      <td>0</td>\n",
       "      <td>Mr. Penumbra's 24-Hour Bookstore (Mr. Penumbra...</td>\n",
       "    </tr>\n",
       "    <tr>\n",
       "      <th>3</th>\n",
       "      <td>-1</td>\n",
       "      <td>641604</td>\n",
       "      <td>0</td>\n",
       "      <td>Purple Cow: Transform Your Business by Being R...</td>\n",
       "    </tr>\n",
       "    <tr>\n",
       "      <th>4</th>\n",
       "      <td>-1</td>\n",
       "      <td>122</td>\n",
       "      <td>0</td>\n",
       "      <td>The Power of One (The Power of One, #1)</td>\n",
       "    </tr>\n",
       "    <tr>\n",
       "      <th>...</th>\n",
       "      <td>...</td>\n",
       "      <td>...</td>\n",
       "      <td>...</td>\n",
       "      <td>...</td>\n",
       "    </tr>\n",
       "    <tr>\n",
       "      <th>80</th>\n",
       "      <td>-1</td>\n",
       "      <td>1215032</td>\n",
       "      <td>5</td>\n",
       "      <td>The Wise Man's Fear (The Kingkiller Chronicle,...</td>\n",
       "    </tr>\n",
       "    <tr>\n",
       "      <th>81</th>\n",
       "      <td>-1</td>\n",
       "      <td>186074</td>\n",
       "      <td>5</td>\n",
       "      <td>The Name of the Wind (The Kingkiller Chronicle...</td>\n",
       "    </tr>\n",
       "    <tr>\n",
       "      <th>82</th>\n",
       "      <td>-1</td>\n",
       "      <td>2213661</td>\n",
       "      <td>5</td>\n",
       "      <td>The Graveyard Book</td>\n",
       "    </tr>\n",
       "    <tr>\n",
       "      <th>83</th>\n",
       "      <td>-1</td>\n",
       "      <td>15783514</td>\n",
       "      <td>4</td>\n",
       "      <td>The Ocean at the End of the Lane</td>\n",
       "    </tr>\n",
       "    <tr>\n",
       "      <th>84</th>\n",
       "      <td>-1</td>\n",
       "      <td>34</td>\n",
       "      <td>5</td>\n",
       "      <td>The Fellowship of the Ring (The Lord of the Ri...</td>\n",
       "    </tr>\n",
       "  </tbody>\n",
       "</table>\n",
       "<p>85 rows × 4 columns</p>\n",
       "</div>"
      ],
      "text/plain": [
       "    user_id   book_id  rating  \\\n",
       "0        -1    127455       0   \n",
       "1        -1     17800       0   \n",
       "2        -1  13538873       0   \n",
       "3        -1    641604       0   \n",
       "4        -1       122       0   \n",
       "..      ...       ...     ...   \n",
       "80       -1   1215032       5   \n",
       "81       -1    186074       5   \n",
       "82       -1   2213661       5   \n",
       "83       -1  15783514       4   \n",
       "84       -1        34       5   \n",
       "\n",
       "                                                title  \n",
       "0    The Lies of Locke Lamora (Gentleman Bastard, #1)  \n",
       "1                      Dance Dance Dance (The Rat #4)  \n",
       "2   Mr. Penumbra's 24-Hour Bookstore (Mr. Penumbra...  \n",
       "3   Purple Cow: Transform Your Business by Being R...  \n",
       "4             The Power of One (The Power of One, #1)  \n",
       "..                                                ...  \n",
       "80  The Wise Man's Fear (The Kingkiller Chronicle,...  \n",
       "81  The Name of the Wind (The Kingkiller Chronicle...  \n",
       "82                                 The Graveyard Book  \n",
       "83                   The Ocean at the End of the Lane  \n",
       "84  The Fellowship of the Ring (The Lord of the Ri...  \n",
       "\n",
       "[85 rows x 4 columns]"
      ]
     },
     "execution_count": 14,
     "metadata": {},
     "output_type": "execute_result"
    }
   ],
   "source": [
    "books"
   ]
  },
  {
   "cell_type": "code",
   "execution_count": 15,
   "id": "ec9ad0f0-1c4e-4a5d-a04a-35d78743b749",
   "metadata": {},
   "outputs": [],
   "source": [
    "books[\"title\"] = books[\"title\"].str.replace(\"title\", \"\")"
   ]
  },
  {
   "cell_type": "code",
   "execution_count": 16,
   "id": "23fcb8da-89fa-466d-a83e-1882727b8a15",
   "metadata": {},
   "outputs": [
    {
     "data": {
      "text/html": [
       "<div>\n",
       "<style scoped>\n",
       "    .dataframe tbody tr th:only-of-type {\n",
       "        vertical-align: middle;\n",
       "    }\n",
       "\n",
       "    .dataframe tbody tr th {\n",
       "        vertical-align: top;\n",
       "    }\n",
       "\n",
       "    .dataframe thead th {\n",
       "        text-align: right;\n",
       "    }\n",
       "</style>\n",
       "<table border=\"1\" class=\"dataframe\">\n",
       "  <thead>\n",
       "    <tr style=\"text-align: right;\">\n",
       "      <th></th>\n",
       "      <th>user_id</th>\n",
       "      <th>book_id</th>\n",
       "      <th>rating</th>\n",
       "      <th>title</th>\n",
       "    </tr>\n",
       "  </thead>\n",
       "  <tbody>\n",
       "    <tr>\n",
       "      <th>0</th>\n",
       "      <td>-1</td>\n",
       "      <td>127455</td>\n",
       "      <td>0</td>\n",
       "      <td>The Lies of Locke Lamora (Gentleman Bastard, #1)</td>\n",
       "    </tr>\n",
       "    <tr>\n",
       "      <th>1</th>\n",
       "      <td>-1</td>\n",
       "      <td>17800</td>\n",
       "      <td>0</td>\n",
       "      <td>Dance Dance Dance (The Rat #4)</td>\n",
       "    </tr>\n",
       "    <tr>\n",
       "      <th>2</th>\n",
       "      <td>-1</td>\n",
       "      <td>13538873</td>\n",
       "      <td>0</td>\n",
       "      <td>Mr. Penumbra's 24-Hour Bookstore (Mr. Penumbra...</td>\n",
       "    </tr>\n",
       "    <tr>\n",
       "      <th>3</th>\n",
       "      <td>-1</td>\n",
       "      <td>641604</td>\n",
       "      <td>0</td>\n",
       "      <td>Purple Cow: Transform Your Business by Being R...</td>\n",
       "    </tr>\n",
       "    <tr>\n",
       "      <th>4</th>\n",
       "      <td>-1</td>\n",
       "      <td>122</td>\n",
       "      <td>0</td>\n",
       "      <td>The Power of One (The Power of One, #1)</td>\n",
       "    </tr>\n",
       "    <tr>\n",
       "      <th>...</th>\n",
       "      <td>...</td>\n",
       "      <td>...</td>\n",
       "      <td>...</td>\n",
       "      <td>...</td>\n",
       "    </tr>\n",
       "    <tr>\n",
       "      <th>80</th>\n",
       "      <td>-1</td>\n",
       "      <td>1215032</td>\n",
       "      <td>5</td>\n",
       "      <td>The Wise Man's Fear (The Kingkiller Chronicle,...</td>\n",
       "    </tr>\n",
       "    <tr>\n",
       "      <th>81</th>\n",
       "      <td>-1</td>\n",
       "      <td>186074</td>\n",
       "      <td>5</td>\n",
       "      <td>The Name of the Wind (The Kingkiller Chronicle...</td>\n",
       "    </tr>\n",
       "    <tr>\n",
       "      <th>82</th>\n",
       "      <td>-1</td>\n",
       "      <td>2213661</td>\n",
       "      <td>5</td>\n",
       "      <td>The Graveyard Book</td>\n",
       "    </tr>\n",
       "    <tr>\n",
       "      <th>83</th>\n",
       "      <td>-1</td>\n",
       "      <td>15783514</td>\n",
       "      <td>4</td>\n",
       "      <td>The Ocean at the End of the Lane</td>\n",
       "    </tr>\n",
       "    <tr>\n",
       "      <th>84</th>\n",
       "      <td>-1</td>\n",
       "      <td>34</td>\n",
       "      <td>5</td>\n",
       "      <td>The Fellowship of the Ring (The Lord of the Ri...</td>\n",
       "    </tr>\n",
       "  </tbody>\n",
       "</table>\n",
       "<p>85 rows × 4 columns</p>\n",
       "</div>"
      ],
      "text/plain": [
       "    user_id   book_id  rating  \\\n",
       "0        -1    127455       0   \n",
       "1        -1     17800       0   \n",
       "2        -1  13538873       0   \n",
       "3        -1    641604       0   \n",
       "4        -1       122       0   \n",
       "..      ...       ...     ...   \n",
       "80       -1   1215032       5   \n",
       "81       -1    186074       5   \n",
       "82       -1   2213661       5   \n",
       "83       -1  15783514       4   \n",
       "84       -1        34       5   \n",
       "\n",
       "                                                title  \n",
       "0    The Lies of Locke Lamora (Gentleman Bastard, #1)  \n",
       "1                      Dance Dance Dance (The Rat #4)  \n",
       "2   Mr. Penumbra's 24-Hour Bookstore (Mr. Penumbra...  \n",
       "3   Purple Cow: Transform Your Business by Being R...  \n",
       "4             The Power of One (The Power of One, #1)  \n",
       "..                                                ...  \n",
       "80  The Wise Man's Fear (The Kingkiller Chronicle,...  \n",
       "81  The Name of the Wind (The Kingkiller Chronicle...  \n",
       "82                                 The Graveyard Book  \n",
       "83                   The Ocean at the End of the Lane  \n",
       "84  The Fellowship of the Ring (The Lord of the Ri...  \n",
       "\n",
       "[85 rows x 4 columns]"
      ]
     },
     "execution_count": 16,
     "metadata": {},
     "output_type": "execute_result"
    }
   ],
   "source": [
    "books"
   ]
  },
  {
   "cell_type": "code",
   "execution_count": 17,
   "id": "ef38115f-10eb-4074-af0a-172cbde919d4",
   "metadata": {},
   "outputs": [],
   "source": [
    "books[\"rating\"] = books[\"rating\"].astype(str)"
   ]
  },
  {
   "cell_type": "code",
   "execution_count": 18,
   "id": "9a37584b-c6d6-4e79-a4b3-dfd25c6ba17d",
   "metadata": {},
   "outputs": [],
   "source": [
    "ratings_string = books[\"rating\"].str.extract(\"(\\[.+\\])\")"
   ]
  },
  {
   "cell_type": "code",
   "execution_count": 19,
   "id": "14d5ec5b-01f5-45d7-b8f4-59014bee4b57",
   "metadata": {},
   "outputs": [],
   "source": [
    "books[\"rating\"] = ratings_string[0].str.slice(start=2, stop=3)"
   ]
  },
  {
   "cell_type": "code",
   "execution_count": 20,
   "id": "84c8ac08-0e94-477f-98a3-7e73bdc93c6c",
   "metadata": {},
   "outputs": [],
   "source": [
    "books = books[[\"title\", \"rating\"]]\n"
   ]
  },
  {
   "cell_type": "code",
   "execution_count": 21,
   "id": "1d1a2375-379c-4001-83c6-904a60a8c984",
   "metadata": {},
   "outputs": [],
   "source": [
    "titles = pd.read_json(\"books_titles.json\")\n",
    "titles[\"book_id\"] = titles[\"book_id\"].astype(str)"
   ]
  },
  {
   "cell_type": "code",
   "execution_count": 22,
   "id": "1153b936-96ec-4b69-86e5-359aa2e90a0b",
   "metadata": {},
   "outputs": [],
   "source": [
    "from sklearn.feature_extraction.text import TfidfVectorizer\n",
    "vectorizer = TfidfVectorizer()\n",
    "\n",
    "tfidf = vectorizer.fit_transform(titles[\"mod_title\"])"
   ]
  },
  {
   "cell_type": "code",
   "execution_count": 23,
   "id": "026fefde-9037-461a-86f9-5a6842720066",
   "metadata": {},
   "outputs": [],
   "source": [
    "import re\n",
    "from sklearn.metrics.pairwise import cosine_similarity\n",
    "import numpy as np\n",
    "\n",
    "def search(query,vectorizer):\n",
    "    processed = re.sub(\"[^a-zA-Z0-9 ]\", \"\", query.lower())\n",
    "    query_vec = vectorizer.transform([query])\n",
    "    similarity = cosine_similarity(query_vec, tfidf).flatten()\n",
    "    indices = np.argpartition(similarity, -10)[-10:]\n",
    "    results = titles.iloc[indices]\n",
    "    results = results.sort_values(\"ratings\", ascending=False)\n",
    "    \n",
    "    return results.iloc[0,:][\"book_id\"]"
   ]
  },
  {
   "cell_type": "code",
   "execution_count": 27,
   "id": "a09f4ff4-fe75-47e3-83ff-48a009fed8b6",
   "metadata": {},
   "outputs": [
    {
     "name": "stderr",
     "output_type": "stream",
     "text": [
      "/var/folders/vh/4z01kv1n265gqdswjfjqqk2w0000gn/T/ipykernel_7519/2191805772.py:1: SettingWithCopyWarning: \n",
      "A value is trying to be set on a copy of a slice from a DataFrame.\n",
      "Try using .loc[row_indexer,col_indexer] = value instead\n",
      "\n",
      "See the caveats in the documentation: https://pandas.pydata.org/pandas-docs/stable/user_guide/indexing.html#returning-a-view-versus-a-copy\n",
      "  books[\"book_id\"] = books[\"Title\"].apply(lambda x: search(x, vectorizer))\n"
     ]
    }
   ],
   "source": [
    "books[\"book_id\"] = books[\"title\"].apply(lambda x: search(x, vectorizer))"
   ]
  },
  {
   "cell_type": "code",
   "execution_count": 28,
   "id": "b30723f1-768a-4347-b66a-fd44e008d111",
   "metadata": {},
   "outputs": [
    {
     "name": "stderr",
     "output_type": "stream",
     "text": [
      "/var/folders/vh/4z01kv1n265gqdswjfjqqk2w0000gn/T/ipykernel_7519/295120743.py:1: SettingWithCopyWarning: \n",
      "A value is trying to be set on a copy of a slice from a DataFrame.\n",
      "Try using .loc[row_indexer,col_indexer] = value instead\n",
      "\n",
      "See the caveats in the documentation: https://pandas.pydata.org/pandas-docs/stable/user_guide/indexing.html#returning-a-view-versus-a-copy\n",
      "  books[\"user_id\"] = \"-1\"\n"
     ]
    }
   ],
   "source": [
    "books[\"user_id\"] = \"-1\"\n"
   ]
  },
  {
   "cell_type": "code",
   "execution_count": 33,
   "id": "a1485073-9bee-4564-ba20-3b35349b0521",
   "metadata": {},
   "outputs": [],
   "source": [
    "books = books[[\"user_id\", \"book_id\", \"rating\", \"title\"]]\n"
   ]
  },
  {
   "cell_type": "code",
   "execution_count": 36,
   "id": "64ec4e5a-0fd4-4a74-9509-c1a26a333921",
   "metadata": {},
   "outputs": [],
   "source": [
    "books = books[~pd.isnull(books[\"rating\"])]"
   ]
  },
  {
   "cell_type": "code",
   "execution_count": 37,
   "id": "46d082c8-3e9d-49b0-b373-a3fbd3ef299e",
   "metadata": {},
   "outputs": [
    {
     "data": {
      "text/html": [
       "<div>\n",
       "<style scoped>\n",
       "    .dataframe tbody tr th:only-of-type {\n",
       "        vertical-align: middle;\n",
       "    }\n",
       "\n",
       "    .dataframe tbody tr th {\n",
       "        vertical-align: top;\n",
       "    }\n",
       "\n",
       "    .dataframe thead th {\n",
       "        text-align: right;\n",
       "    }\n",
       "</style>\n",
       "<table border=\"1\" class=\"dataframe\">\n",
       "  <thead>\n",
       "    <tr style=\"text-align: right;\">\n",
       "      <th></th>\n",
       "      <th>user_id</th>\n",
       "      <th>book_id</th>\n",
       "      <th>My Rating</th>\n",
       "      <th>Title</th>\n",
       "    </tr>\n",
       "  </thead>\n",
       "  <tbody>\n",
       "  </tbody>\n",
       "</table>\n",
       "</div>"
      ],
      "text/plain": [
       "Empty DataFrame\n",
       "Columns: [user_id, book_id, My Rating, Title]\n",
       "Index: []"
      ]
     },
     "execution_count": 37,
     "metadata": {},
     "output_type": "execute_result"
    }
   ],
   "source": [
    "books.head()"
   ]
  },
  {
   "cell_type": "code",
   "execution_count": null,
   "id": "73aebc2a-1898-454d-84dd-fe851234388a",
   "metadata": {},
   "outputs": [],
   "source": [
    "books.to_csv(\"my_books.csv\")"
   ]
  },
  {
   "cell_type": "code",
   "execution_count": null,
   "id": "2c3f3e58-89b7-4696-b988-6a3325db2fa5",
   "metadata": {},
   "outputs": [],
   "source": []
  },
  {
   "cell_type": "code",
   "execution_count": null,
   "id": "1baab28e-226b-4873-aff9-e1ee6d79163c",
   "metadata": {},
   "outputs": [],
   "source": []
  }
 ],
 "metadata": {
  "kernelspec": {
   "display_name": "Python 3 (ipykernel)",
   "language": "python",
   "name": "python3"
  },
  "language_info": {
   "codemirror_mode": {
    "name": "ipython",
    "version": 3
   },
   "file_extension": ".py",
   "mimetype": "text/x-python",
   "name": "python",
   "nbconvert_exporter": "python",
   "pygments_lexer": "ipython3",
   "version": "3.8.2"
  }
 },
 "nbformat": 4,
 "nbformat_minor": 5
}
